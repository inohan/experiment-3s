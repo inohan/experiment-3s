{
 "cells": [
  {
   "cell_type": "code",
   "execution_count": 9,
   "metadata": {},
   "outputs": [],
   "source": [
    "import sys\n",
    "sys.path.append(\"../\")\n",
    "from matplotlib import pyplot as plt\n",
    "from matplotlib.axes import Axes\n",
    "import numpy as np\n",
    "import pandas as pd\n",
    "from scipy.optimize import curve_fit\n",
    "from axessettings import AxesSetting, linear_sim\n",
    "import regex as re\n",
    "import scipy.constants as const"
   ]
  },
  {
   "cell_type": "markdown",
   "metadata": {},
   "source": [
    "$E = h\\nu = \\frac{hc}{\\lambda}$"
   ]
  },
  {
   "cell_type": "code",
   "execution_count": 10,
   "metadata": {},
   "outputs": [],
   "source": [
    "def read_line(str: str) -> list:\n",
    "    match = re.search(\"(\\d+): (\\d+.?\\d+)\", str)\n",
    "    return [int(match.group(1)), float(match.group(2))]\n",
    "\n",
    "def get_spectrums(filename: str) -> pd.DataFrame:\n",
    "    with open(filename, \"r\") as file:\n",
    "        lines = file.readlines()\n",
    "    nd = np.array([[0, 0]]+[read_line(line) for line in lines])\n",
    "    df = pd.DataFrame(data = nd[:, 1], index = nd[:, 0], columns=[\"E\"])\n",
    "    df.index = df.index.astype(int)\n",
    "    return df\n",
    "\n",
    "def get_wavelength(E: float):\n",
    "    return const.h * const.c / (E * const.electron_volt) * 1e9\n",
    "\n",
    "def get_wl_excite(data, ntoindex, n1, n2):\n",
    "    return get_wavelength(data.loc[ntoindex(n2)][\"E\"]-data.loc[ntoindex(n1)][\"E\"])\n",
    "\n",
    "def get_wl_excite_simple(data, i1, i2):\n",
    "    return get_wavelength(data.loc[i2][\"E\"]-data.loc[i1][\"E\"])\n",
    "\n",
    "def ntoi_simple(n):\n",
    "    return sum([i**2 for i in range(1,n)])"
   ]
  },
  {
   "cell_type": "code",
   "execution_count": 11,
   "metadata": {},
   "outputs": [
    {
     "name": "stdout",
     "output_type": "stream",
     "text": [
      "656.139915501695\n",
      "486.0791093942852\n",
      "433.87527447228535\n",
      "409.567251695297\n"
     ]
    }
   ],
   "source": [
    "df_H = get_spectrums(\"pc-spectrum/H.dat\")\n",
    "print(get_wl_excite(df_H, ntoi_simple, 2, 3))\n",
    "print(get_wl_excite(df_H, ntoi_simple, 2, 4))\n",
    "print(get_wl_excite(df_H, ntoi_simple, 2, 5))\n",
    "print(get_wl_excite(df_H, ntoi_simple, 2, 6))"
   ]
  },
  {
   "cell_type": "code",
   "execution_count": 25,
   "metadata": {},
   "outputs": [
    {
     "name": "stdout",
     "output_type": "stream",
     "text": [
      "SINGLET\n",
      "---------\n",
      "2s-3s:  535.9\n",
      "2s-3d:  503.4\n",
      "2s-3p:  499.9\n",
      "2s-4s:  402.4\n",
      "2s-4f:  396.5\n",
      "2s-4p:  396.0\n",
      "2p-3s:  725.8\n",
      "2p-3d:  667.6\n",
      "2p-3p:  661.3\n",
      "2p-4s:  500.8\n",
      "2p-4f:  491.6\n",
      "2p-4p:  491.0\n",
      "\n",
      "TRIPLET\n",
      "---------\n",
      "2s-3s:  430.0\n",
      "2s-3p:  390.2\n",
      "2s-3d:  383.7\n",
      "2s-4s:  328.7\n",
      "2s-4p:  319.0\n",
      "2s-4f:  318.4\n",
      "2s-4d:  318.0\n",
      "2p-3s:  717.6\n",
      "2p-3p:  613.3\n",
      "2p-3d:  597.5\n",
      "2p-4s:  473.9\n",
      "2p-4p:  454.0\n",
      "2p-4f:  452.7\n",
      "2p-4d:  452.1\n"
     ]
    }
   ],
   "source": [
    "df_He_singlet = get_spectrums(\"pc-spectrum/He_singlet.dat\")\n",
    "f_He_triplet = get_spectrums(\"pc-spectrum/He_triplet.dat\")\n",
    "dict_singlet = {\n",
    "    \"1s\": 0,\n",
    "    \"2s\": 1,\n",
    "    \"2p\": 2,\n",
    "    \"3s\": 5,\n",
    "    \"3d\": 6,\n",
    "    \"3p\": 11,\n",
    "    \"4s\": 14,\n",
    "    \"4f\": 15,\n",
    "    \"4p\": 22\n",
    "}\n",
    "dict_triplet = {\n",
    "    \"2s\": 0,\n",
    "    \"2p\": 1,\n",
    "    \"3s\": 4,\n",
    "    \"3p\": 5,\n",
    "    \"3d\": 8,\n",
    "    \"4s\": 13,\n",
    "    \"4p\": 14,\n",
    "    \"4f\": 17,\n",
    "    \"4d\": 24\n",
    "}\n",
    "\n",
    "print(\"SINGLET\\n---------\")\n",
    "items = list(dict_singlet.items())\n",
    "for i in range(1, len(items)):\n",
    "    for j in range(i+1, len(items)):\n",
    "        wl = get_wl_excite_simple(df_He_singlet, items[i][1], items[j][1])\n",
    "        if (wl < 1000):\n",
    "            print(f\"{items[i][0]}-{items[j][0]}: {wl: .1f}\")\n",
    "\n",
    "print(\"\\nTRIPLET\\n---------\")\n",
    "items = list(dict_triplet.items())\n",
    "for i in range(len(items)):\n",
    "    for j in range(i+1, len(items)):\n",
    "        wl = get_wl_excite_simple(f_He_triplet, items[i][1], items[j][1])\n",
    "        if (wl < 1000):\n",
    "            print(f\"{items[i][0]}-{items[j][0]}: {wl: .1f}\")"
   ]
  }
 ],
 "metadata": {
  "kernelspec": {
   "display_name": "base",
   "language": "python",
   "name": "python3"
  },
  "language_info": {
   "codemirror_mode": {
    "name": "ipython",
    "version": 3
   },
   "file_extension": ".py",
   "mimetype": "text/x-python",
   "name": "python",
   "nbconvert_exporter": "python",
   "pygments_lexer": "ipython3",
   "version": "3.11.5"
  }
 },
 "nbformat": 4,
 "nbformat_minor": 2
}
