{
 "cells": [
  {
   "cell_type": "code",
   "execution_count": 2,
   "metadata": {},
   "outputs": [],
   "source": [
    "import sys\n",
    "sys.path.append(\"../\")\n",
    "from matplotlib import pyplot as plt\n",
    "from matplotlib.axes import Axes\n",
    "import numpy as np\n",
    "import pandas as pd\n",
    "from scipy.optimize import curve_fit\n",
    "from axessettings import AxesSetting, linear_sim"
   ]
  },
  {
   "cell_type": "markdown",
   "metadata": {},
   "source": [
    "# 変圧器"
   ]
  },
  {
   "cell_type": "markdown",
   "metadata": {},
   "source": [
    "## (1) 抵抗測定"
   ]
  },
  {
   "cell_type": "markdown",
   "metadata": {},
   "source": [
    "四端子法で1次(primary)、2次(secondary)の電圧、電流を測定\n",
    "\n",
    "$r=R\\frac{234.5+T}{234.5+t}$"
   ]
  },
  {
   "cell_type": "code",
   "execution_count": 3,
   "metadata": {},
   "outputs": [],
   "source": [
    "I_p = 1\n",
    "V_p = 1\n",
    "I_s = 1\n",
    "V_s = 1\n",
    "temp = 24.0\n",
    "R_p = V_p / I_p\n",
    "R_s = V_s / I_s\n",
    "\n",
    "r_p = lambda T: R_p * (234.5 + T)/(234.5 + temp)\n",
    "r_s = lambda T: R_s * (234.5 + T)/(234.5 + temp)"
   ]
  },
  {
   "cell_type": "markdown",
   "metadata": {},
   "source": [
    "## (2) 無負荷試験・短絡試験"
   ]
  },
  {
   "cell_type": "markdown",
   "metadata": {},
   "source": [
    "### 無負荷試験"
   ]
  },
  {
   "cell_type": "markdown",
   "metadata": {},
   "source": [
    "**1次側：定格電圧**\n",
    "\n",
    "電流$\\dot{I}$、電圧$\\dot{V}$、電力の実効値$\\dot{P}$、位相差$\\theta$($V$基準)が与えられている。アドミタンス$Y_0=G_0+jB_0=|Y_0|e^{j\\theta}$。\n",
    "\n",
    "$I = Y_0V = |Y_0|e^{j\\theta}V$\n",
    "\n",
    "$\\therefore |Y_0| = \\sqrt{G_0^2 + B_0^2} = \\frac{\\dot{I}}{\\dot{V}}$\n",
    "\n",
    "$\\dot{P} = \\text{Re}(IV)=\\dot{I}\\dot{V}\\cos{\\theta}$\n",
    "\n",
    "$\\text{Re}\\,Y_0 = G_0 = \\frac{\\dot{P}}{\\dot{V}^2}$\n",
    "\n",
    "$B_0$は$\\omega$依存？"
   ]
  },
  {
   "cell_type": "code",
   "execution_count": 4,
   "metadata": {},
   "outputs": [
    {
     "name": "stdout",
     "output_type": "stream",
     "text": [
      "P (measured) = 1\n",
      "P = IVcosΘ = 1.0\n",
      "Y_0 (from P, I, V) =  1.00+0.00j\n",
      "Y_0 (from phase, I, V) =  1.00+0.00j\n"
     ]
    }
   ],
   "source": [
    "# 解放の測定\n",
    "I_open = 1\n",
    "V_open = 1\n",
    "P_open = 1\n",
    "phase_open = 0 #radian\n",
    "\n",
    "#\n",
    "print(f\"P (measured) = {P_open}\")\n",
    "print(f\"P = IVcosΘ = {I_open*V_open*np.cos(phase_open)}\")\n",
    "\n",
    "G_0 = P_open / V_open**2\n",
    "B_0 = -np.sqrt((I_open/V_open)**2 - G_0**2)\n",
    "Y_0c = G_0 + 1j * B_0\n",
    "Y_0m = I_open/V_open * np.exp(1j * phase_open)\n",
    "\n",
    "print(f\"Y_0 (from P, I, V) = {Y_0c : .2f}\")\n",
    "print(f\"Y_0 (from phase, I, V) = {Y_0m : .2f}\")"
   ]
  },
  {
   "cell_type": "markdown",
   "metadata": {},
   "source": [
    "### 短絡試験"
   ]
  },
  {
   "cell_type": "markdown",
   "metadata": {},
   "source": [
    "1次側：定格電圧\n",
    "\n",
    "$\\eta_C = \\frac{\\text{出力}}{\\text{出力} +\\text{損失}} \\times 100 = \\frac{P_0\\times pf\\times c}{P_0\\times pf\\times c + W_i + W_c\\times c^2}\\times 100$\n",
    "\n",
    "Where $P_0$: 定格出力、$pf$: 負荷力率、$c: \\frac{\\text{負荷電流}}{\\text{定格電流}}$、$W_i$: 定格電圧における鉄損、$W_c$: 定格電流における銅損\n"
   ]
  },
  {
   "cell_type": "code",
   "execution_count": 1,
   "metadata": {},
   "outputs": [
    {
     "name": "stdout",
     "output_type": "stream",
     "text": [
      "P (measured) = 1\n"
     ]
    },
    {
     "ename": "NameError",
     "evalue": "name 'np' is not defined",
     "output_type": "error",
     "traceback": [
      "\u001b[0;31m---------------------------------------------------------------------------\u001b[0m",
      "\u001b[0;31mNameError\u001b[0m                                 Traceback (most recent call last)",
      "Cell \u001b[0;32mIn[1], line 9\u001b[0m\n\u001b[1;32m      7\u001b[0m \u001b[38;5;66;03m#\u001b[39;00m\n\u001b[1;32m      8\u001b[0m \u001b[38;5;28mprint\u001b[39m(\u001b[38;5;124mf\u001b[39m\u001b[38;5;124m\"\u001b[39m\u001b[38;5;124mP (measured) = \u001b[39m\u001b[38;5;132;01m{\u001b[39;00mP_short\u001b[38;5;132;01m}\u001b[39;00m\u001b[38;5;124m\"\u001b[39m)\n\u001b[0;32m----> 9\u001b[0m \u001b[38;5;28mprint\u001b[39m(\u001b[38;5;124mf\u001b[39m\u001b[38;5;124m\"\u001b[39m\u001b[38;5;124mP = IVcosΘ = \u001b[39m\u001b[38;5;132;01m{\u001b[39;00mI_short\u001b[38;5;241m*\u001b[39mV_short\u001b[38;5;241m*\u001b[39mnp\u001b[38;5;241m.\u001b[39mcos(phase_short)\u001b[38;5;132;01m}\u001b[39;00m\u001b[38;5;124m\"\u001b[39m)\n\u001b[1;32m     11\u001b[0m R_1 \u001b[38;5;241m=\u001b[39m P_short\u001b[38;5;241m/\u001b[39mI_short\u001b[38;5;241m*\u001b[39m\u001b[38;5;241m*\u001b[39m\u001b[38;5;241m2\u001b[39m\n\u001b[1;32m     12\u001b[0m X_1 \u001b[38;5;241m=\u001b[39m np\u001b[38;5;241m.\u001b[39msqrt((V_short\u001b[38;5;241m/\u001b[39mI_short)\u001b[38;5;241m*\u001b[39m\u001b[38;5;241m*\u001b[39m\u001b[38;5;241m2\u001b[39m \u001b[38;5;241m-\u001b[39m R_1\u001b[38;5;241m*\u001b[39m\u001b[38;5;241m*\u001b[39m\u001b[38;5;241m2\u001b[39m)\n",
      "\u001b[0;31mNameError\u001b[0m: name 'np' is not defined"
     ]
    }
   ],
   "source": [
    "# 短絡の測定\n",
    "I_short = 1\n",
    "V_short = 1\n",
    "P_short = 1\n",
    "phase_short = 0\n",
    "\n",
    "#\n",
    "print(f\"P (measured) = {P_short}\")\n",
    "print(f\"P = IVcosΘ = {I_short*V_short*np.cos(phase_short)}\")\n",
    "\n",
    "R_1 = P_short/I_short**2\n",
    "X_1 = np.sqrt((V_short/I_short)**2 - R_1**2)\n",
    "Z_1c = R_1 + 1j * X_1\n",
    "Z_1m = 1/ (I_short/V_short * np.exp(1j * phase_short) - Y_0c)\n",
    "\n",
    "print(f\"Z_1 (from P, I, V) = {Z_1c : .2f}\")\n",
    "print(f\"Z_1 (from phase, I, V) = {Z_1m : .2f}\")"
   ]
  },
  {
   "cell_type": "code",
   "execution_count": 6,
   "metadata": {},
   "outputs": [],
   "source": [
    "axessetting = AxesSetting(xlim=(1e5, 1e7), xscale=\"log\", legend=True, xlabel=\"frequency [Hz]\", grid=\"y\", ylabel=\"$V_2/V_1$\")"
   ]
  }
 ],
 "metadata": {
  "kernelspec": {
   "display_name": "base",
   "language": "python",
   "name": "python3"
  },
  "language_info": {
   "codemirror_mode": {
    "name": "ipython",
    "version": 3
   },
   "file_extension": ".py",
   "mimetype": "text/x-python",
   "name": "python",
   "nbconvert_exporter": "python",
   "pygments_lexer": "ipython3",
   "version": "3.11.5"
  }
 },
 "nbformat": 4,
 "nbformat_minor": 2
}
