{
 "cells": [
  {
   "cell_type": "code",
   "execution_count": 9,
   "metadata": {},
   "outputs": [],
   "source": [
    "import sys\n",
    "sys.path.append(\"../\")\n",
    "from matplotlib import pyplot as plt\n",
    "from matplotlib.axes import Axes\n",
    "import numpy as np\n",
    "import pandas as pd\n",
    "from scipy.optimize import curve_fit\n",
    "from axessettings import AxesSetting, linear_sim"
   ]
  },
  {
   "cell_type": "markdown",
   "metadata": {},
   "source": [
    "# 変圧器"
   ]
  },
  {
   "cell_type": "markdown",
   "metadata": {},
   "source": [
    "## (1) 抵抗測定"
   ]
  },
  {
   "cell_type": "markdown",
   "metadata": {},
   "source": [
    "四端子法で1次(primary)、2次(secondary)の電圧、電流を測定\n",
    "\n",
    "$r=R\\frac{234.5+T}{234.5+t}$"
   ]
  },
  {
   "cell_type": "code",
   "execution_count": 10,
   "metadata": {},
   "outputs": [],
   "source": [
    "\n",
    "R_p = 0.245\n",
    "R_s = 0.0523\n",
    "temp = 24.8\n",
    "\n",
    "r_p = lambda T: R_p * (234.5 + T)/(234.5 + temp)\n",
    "r_s = lambda T: R_s * (234.5 + T)/(234.5 + temp)"
   ]
  },
  {
   "cell_type": "markdown",
   "metadata": {},
   "source": [
    "## (2) 無負荷試験・短絡試験"
   ]
  },
  {
   "cell_type": "markdown",
   "metadata": {},
   "source": [
    "### 無負荷試験"
   ]
  },
  {
   "cell_type": "markdown",
   "metadata": {},
   "source": [
    "**1次側：定格電圧**\n",
    "\n",
    "電流$\\dot{I}$、電圧$\\dot{V}$、電力の実効値$\\dot{P}$、位相差$\\theta$($V$基準)が与えられている。\n",
    "\n",
    "アドミタンス$Y_0=G_0+jB_0=|Y_0|e^{j\\theta}$。\n",
    "\n",
    "$I = Y_0V = |Y_0|e^{j\\theta}V$\n",
    "\n",
    "$\\therefore |Y_0| = \\sqrt{G_0^2 + B_0^2} = \\frac{\\dot{I}}{\\dot{V}}$\n",
    "\n",
    "$\\dot{P} = \\text{Re}(IV)=\\dot{I}\\dot{V}\\cos{\\theta}$\n",
    "\n",
    "$\\text{Re}\\,Y_0 = G_0 = \\frac{\\dot{P}}{\\dot{V}^2}$\n",
    "\n",
    "$B_0$は$\\omega$依存？"
   ]
  },
  {
   "cell_type": "code",
   "execution_count": 11,
   "metadata": {},
   "outputs": [
    {
     "name": "stdout",
     "output_type": "stream",
     "text": [
      "P (measured) = 26.1\n",
      "P = IVcosΘ =  3.69\n",
      "G_0 =  6.53e-04\n",
      "B_0 = -2.86e-03\n",
      "Y_0 =  6.53e-04-2.86e-03j\n"
     ]
    }
   ],
   "source": [
    "# 解放の測定\n",
    "I_open = 0.587\n",
    "V_open = 200.00\n",
    "P_open = 26.1\n",
    "phase_open = 2*np.pi*4.9/20 #radian\n",
    "\n",
    "#\n",
    "print(f\"P (measured) = {P_open}\")\n",
    "print(f\"P = IVcosΘ = {I_open*V_open*np.cos(phase_open): .2f}\")\n",
    "\n",
    "G_0 = P_open / V_open**2\n",
    "B_0 = -np.sqrt((I_open/V_open)**2 - G_0**2)\n",
    "Y_0 = G_0 + 1j * B_0\n",
    "\n",
    "print(f\"G_0 = {G_0 : .2e}\")\n",
    "print(f\"B_0 = {B_0 : .2e}\")\n",
    "print(f\"Y_0 = {Y_0 : .2e}\")"
   ]
  },
  {
   "cell_type": "markdown",
   "metadata": {},
   "source": [
    "### 短絡試験"
   ]
  },
  {
   "cell_type": "markdown",
   "metadata": {},
   "source": [
    "**2次側：定格電流** (小電圧・電流)\n",
    "\n",
    "電流$\\dot{I}$、電圧$\\dot{V}$、電力の実効値$\\dot{P}$、位相差$\\theta$($I$基準)が与えられている。\n",
    "\n",
    "インピーダンス$Z_1=R_1+jX_1=|Z_1|e^{j\\theta}$。\n",
    "\n",
    "$V = Z_1I = |Z_1|e^{j\\theta}I$\n",
    "\n",
    "$\\therefore |Z_1| = \\sqrt{R_1^2 + X_1^2} = \\frac{\\dot{V}}{\\dot{I}}$\n",
    "\n",
    "$\\dot{P} = \\text{Re}(IV)=\\dot{I}\\dot{V}\\cos{\\theta}$\n",
    "\n",
    "$\\text{Re}\\,Z_1 = R_1 = \\frac{\\dot{P}}{\\dot{I}^2}$\n",
    "\n",
    "$B_0$は$\\omega$依存？"
   ]
  },
  {
   "cell_type": "code",
   "execution_count": 12,
   "metadata": {},
   "outputs": [
    {
     "name": "stdout",
     "output_type": "stream",
     "text": [
      "P (measured) = 54.9\n",
      "P = IVcosΘ =  54.80\n",
      "R_1 =  0.55\n",
      "R_theory @75℃ =  0.31\n",
      "X_1 =  0.35\n",
      "Z_1 =  0.55+0.35j\n"
     ]
    }
   ],
   "source": [
    "# 短絡の測定\n",
    "I_short = 10.000\n",
    "V_short = 6.49\n",
    "P_short = 54.9\n",
    "phase_short = 2*np.pi*1.8/20\n",
    "\n",
    "#\n",
    "print(f\"P (measured) = {P_short}\")\n",
    "print(f\"P = IVcosΘ = {I_short*V_short*np.cos(phase_short): .2f}\")\n",
    "\n",
    "R_1 = P_short/I_short**2\n",
    "X_1 = np.sqrt((V_short/I_short)**2 - R_1**2)\n",
    "Z_1 = R_1 + 1j * X_1\n",
    "\n",
    "print(f\"R_1 = {R_1 : .2f}\")\n",
    "print(f\"R_theory @75℃ = {r_p(75) + 0.5**2 * r_s(75): .2f}\")\n",
    "print(f\"X_1 = {X_1 : .2f}\")\n",
    "print(f\"Z_1 = {Z_1 : .2f}\")"
   ]
  },
  {
   "cell_type": "markdown",
   "metadata": {},
   "source": [
    "## (3) 負荷試験"
   ]
  },
  {
   "cell_type": "code",
   "execution_count": 13,
   "metadata": {},
   "outputs": [],
   "source": [
    "df_trans = pd.read_csv(\"data_trans_real.csv\")\n",
    "df_trans\n",
    "\n",
    "efficiency = lambda P0, pf, c, Wi, Wc: P0*pf*c / (P0*pf*c + Wi + Wc * c**2) * 100"
   ]
  },
  {
   "cell_type": "markdown",
   "metadata": {},
   "source": [
    "電圧変動率\n",
    "$\\epsilon = \\frac{V_{20} - V_{2n}}{V_{2n}} \\times100$"
   ]
  },
  {
   "cell_type": "code",
   "execution_count": 14,
   "metadata": {},
   "outputs": [
    {
     "name": "stdout",
     "output_type": "stream",
     "text": [
      "Change rate = 3.10%\n"
     ]
    }
   ],
   "source": [
    "e = (df_trans.iloc[0][\"V2\"] - df_trans.iloc[-1][\"V2\"]) / df_trans.iloc[-1][\"V2\"] * 100\n",
    "print(f\"Change rate = {e:.2f}%\")"
   ]
  },
  {
   "cell_type": "markdown",
   "metadata": {},
   "source": [
    "**1次側：定格電圧**\n",
    "\n",
    "$\\eta_C = \\frac{\\text{出力}}{\\text{出力} +\\text{損失}} \\times 100 = \\frac{P_0\\times pf\\times c}{P_0\\times pf\\times c + W_i + W_c\\times c^2}\\times 100$\n",
    "\n",
    "Where $P_0$: 定格出力、$pf$: 負荷力率、$c: \\frac{\\text{負荷電流}}{\\text{定格電流}}$、$W_i$: 定格電圧における鉄損、$W_c$: 定格電流における銅損\n"
   ]
  },
  {
   "cell_type": "code",
   "execution_count": 15,
   "metadata": {},
   "outputs": [
    {
     "data": {
      "image/png": "[encoded data removed]",
      "text/plain": [
       "<Figure size 800x600 with 1 Axes>"
      ]
     },
     "metadata": {},
     "output_type": "display_data"
    }
   ],
   "source": [
    "fig, ax = plt.subplots(1, 1, figsize=(8, 6))\n",
    "axessetting = AxesSetting(legend=True, xlabel=\"I2 [A]\", ylabel=\"V2 [V]\", grid=\"both\", xlim=(0, 20), title=\"I2 - V2\", ylim=(0, 100))\n",
    "Wi = G_0 * 200 ** 2\n",
    "Wc = P_short\n",
    "axessetting.plot_func(ax, lambda I2: (-R_1*I2*2 + np.sqrt(200**2 - X_1**2 * (I2*2)**2)) / 2, label=\"theory\", c=\"black\", alpha=0.4)\n",
    "ax.scatter(df_trans[\"I2\"], df_trans[\"V2\"], c=\"red\")\n",
    "axessetting.apply_axes(ax)"
   ]
  },
  {
   "cell_type": "code",
   "execution_count": 16,
   "metadata": {},
   "outputs": [
    {
     "data": {
      "image/png": "[encoded data removed]",
      "text/plain": [
       "<Figure size 800x600 with 1 Axes>"
      ]
     },
     "metadata": {},
     "output_type": "display_data"
    }
   ],
   "source": [
    "fig, ax = plt.subplots(1, 1, figsize=(8, 6))\n",
    "axessetting = AxesSetting(legend=True, xlabel=\"I2 [A]\", ylabel=\"efficiency [%]\", grid=\"both\", xlim=(0, 20), title=\"I2 - efficiency\")\n",
    "Wi = G_0 * 200 ** 2\n",
    "Wc = P_short\n",
    "axessetting.plot_func(ax, lambda I2: efficiency(2000, 1, I2/20, Wi, Wc), label=\"theory\", c=\"black\", alpha=0.4)\n",
    "ax.scatter(df_trans[\"I2\"], df_trans[\"P2\"]/df_trans[\"P1\"]*100, c=\"red\")\n",
    "axessetting.apply_axes(ax)"
   ]
  },
  {
   "cell_type": "code",
   "execution_count": null,
   "metadata": {},
   "outputs": [],
   "source": []
  }
 ],
 "metadata": {
  "kernelspec": {
   "display_name": "base",
   "language": "python",
   "name": "python3"
  },
  "language_info": {
   "codemirror_mode": {
    "name": "ipython",
    "version": 3
   },
   "file_extension": ".py",
   "mimetype": "text/x-python",
   "name": "python",
   "nbconvert_exporter": "python",
   "pygments_lexer": "ipython3",
   "version": "3.11.5"
  }
 },
 "nbformat": 4,
 "nbformat_minor": 2
}
